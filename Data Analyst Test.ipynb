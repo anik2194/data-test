{
 "cells": [
  {
   "cell_type": "markdown",
   "metadata": {},
   "source": [
    "# The data provided HERE contains information about a random selection of 5,000 players who installed one of our apps in the last ~30 days. \n",
    "\n",
    "The dataset provided contains one file, players.csv.\n",
    "\n",
    "The columns in the files are defined as follows.\n",
    "\n",
    "level_progress.csv:\n",
    "-\tevent_datetime: The date and time at which the event was received (Local time)\n",
    "-\tplayer_id: A unique identifier for each player.\n",
    "-\tlevel_number: The level number the event corresponds to.\n",
    "-\tstatus: The outcome the event corresponds to. (start, fail, complete)\n",
    "-\tsession_id: A unique identifier for the session in which the event was produced.\n",
    "\n",
    "*complete means the player was successful.\n",
    "\n",
    "Task\n",
    "\n",
    "Q. On which level are players most likely to fail?\n",
    "\n",
    "You should consider the statistical significance of your answer carefully.\n",
    "\n",
    "You should include any code used to process the data and any calculations used to compute an answer.\n",
    "\n"
   ]
  },
  {
   "cell_type": "code",
   "execution_count": 53,
   "metadata": {},
   "outputs": [],
   "source": [
    "# Importing the required libraries for this project\n",
    "import numpy as np\n",
    "import pandas as pd\n",
    "import matplotlib.pyplot as plt"
   ]
  },
  {
   "cell_type": "code",
   "execution_count": 34,
   "metadata": {},
   "outputs": [
    {
     "name": "stdout",
     "output_type": "stream",
     "text": [
      "Memory usage of dataframe is 2.13 MB --> 1.76 MB (Decreased by 17.5%)\n",
      "(55826, 5)\n",
      "CPU times: user 87 ms, sys: 6.67 ms, total: 93.7 ms\n",
      "Wall time: 908 ms\n"
     ]
    }
   ],
   "source": [
    "%%time\n",
    "train = pd.read_csv('level_progress.csv')\n",
    "train = reduce_mem_usage(train)\n",
    "print(train.shape)"
   ]
  },
  {
   "cell_type": "code",
   "execution_count": 35,
   "metadata": {},
   "outputs": [
    {
     "name": "stdout",
     "output_type": "stream",
     "text": [
      "<class 'pandas.core.frame.DataFrame'>\n",
      "RangeIndex: 55826 entries, 0 to 55825\n",
      "Data columns (total 5 columns):\n",
      "event_datetime    55826 non-null object\n",
      "player_id         55826 non-null object\n",
      "level_number      55826 non-null int8\n",
      "status            55826 non-null object\n",
      "session_id        55826 non-null object\n",
      "dtypes: int8(1), object(4)\n",
      "memory usage: 1.8+ MB\n"
     ]
    }
   ],
   "source": [
    "train.info()"
   ]
  },
  {
   "cell_type": "code",
   "execution_count": 37,
   "metadata": {},
   "outputs": [
    {
     "data": {
      "text/html": [
       "<div>\n",
       "<style scoped>\n",
       "    .dataframe tbody tr th:only-of-type {\n",
       "        vertical-align: middle;\n",
       "    }\n",
       "\n",
       "    .dataframe tbody tr th {\n",
       "        vertical-align: top;\n",
       "    }\n",
       "\n",
       "    .dataframe thead th {\n",
       "        text-align: right;\n",
       "    }\n",
       "</style>\n",
       "<table border=\"1\" class=\"dataframe\">\n",
       "  <thead>\n",
       "    <tr style=\"text-align: right;\">\n",
       "      <th></th>\n",
       "      <th>event_datetime</th>\n",
       "      <th>player_id</th>\n",
       "      <th>level_number</th>\n",
       "      <th>status</th>\n",
       "      <th>session_id</th>\n",
       "    </tr>\n",
       "  </thead>\n",
       "  <tbody>\n",
       "    <tr>\n",
       "      <th>0</th>\n",
       "      <td>2020-11-28 21:00:24.958000</td>\n",
       "      <td>00020eac3d7e4f058b87eac1a9a85c25</td>\n",
       "      <td>6</td>\n",
       "      <td>complete</td>\n",
       "      <td>6ddf006b807e451eb4706d6d98a049b6</td>\n",
       "    </tr>\n",
       "    <tr>\n",
       "      <th>1</th>\n",
       "      <td>2020-11-27 22:03:03.048000</td>\n",
       "      <td>00020eac3d7e4f058b87eac1a9a85c25</td>\n",
       "      <td>2</td>\n",
       "      <td>start</td>\n",
       "      <td>3ba98db705f2aa0bc406441a61c23b3c</td>\n",
       "    </tr>\n",
       "    <tr>\n",
       "      <th>2</th>\n",
       "      <td>2020-11-26 14:53:09.344000</td>\n",
       "      <td>002188c0bc476f356f4c3b74e5cc66c8</td>\n",
       "      <td>1</td>\n",
       "      <td>start</td>\n",
       "      <td>25cf292a8f1d3da01df8371276502edf</td>\n",
       "    </tr>\n",
       "    <tr>\n",
       "      <th>3</th>\n",
       "      <td>2020-12-03 11:43:26.582000</td>\n",
       "      <td>00576ef3617e6bbbabfa0b1090e4122d</td>\n",
       "      <td>1</td>\n",
       "      <td>start</td>\n",
       "      <td>21fd6a7db53a9220574563ac8a8c8b58</td>\n",
       "    </tr>\n",
       "    <tr>\n",
       "      <th>4</th>\n",
       "      <td>2020-12-04 14:23:07.448000</td>\n",
       "      <td>00576ef3617e6bbbabfa0b1090e4122d</td>\n",
       "      <td>7</td>\n",
       "      <td>start</td>\n",
       "      <td>358b9ab5c1c0f08bc7def310411eb90f</td>\n",
       "    </tr>\n",
       "  </tbody>\n",
       "</table>\n",
       "</div>"
      ],
      "text/plain": [
       "               event_datetime                         player_id  level_number  \\\n",
       "0  2020-11-28 21:00:24.958000  00020eac3d7e4f058b87eac1a9a85c25             6   \n",
       "1  2020-11-27 22:03:03.048000  00020eac3d7e4f058b87eac1a9a85c25             2   \n",
       "2  2020-11-26 14:53:09.344000  002188c0bc476f356f4c3b74e5cc66c8             1   \n",
       "3  2020-12-03 11:43:26.582000  00576ef3617e6bbbabfa0b1090e4122d             1   \n",
       "4  2020-12-04 14:23:07.448000  00576ef3617e6bbbabfa0b1090e4122d             7   \n",
       "\n",
       "     status                        session_id  \n",
       "0  complete  6ddf006b807e451eb4706d6d98a049b6  \n",
       "1     start  3ba98db705f2aa0bc406441a61c23b3c  \n",
       "2     start  25cf292a8f1d3da01df8371276502edf  \n",
       "3     start  21fd6a7db53a9220574563ac8a8c8b58  \n",
       "4     start  358b9ab5c1c0f08bc7def310411eb90f  "
      ]
     },
     "execution_count": 37,
     "metadata": {},
     "output_type": "execute_result"
    }
   ],
   "source": [
    "train.head()"
   ]
  },
  {
   "cell_type": "code",
   "execution_count": 39,
   "metadata": {},
   "outputs": [
    {
     "name": "stdout",
     "output_type": "stream",
     "text": [
      "unique [level_number] count: 50\n"
     ]
    }
   ],
   "source": [
    "for i in ['level_number']:\n",
    "    print(f'unique [{i}] count:', train[i].nunique())"
   ]
  },
  {
   "cell_type": "code",
   "execution_count": 44,
   "metadata": {},
   "outputs": [
    {
     "data": {
      "text/html": [
       "<div>\n",
       "<style scoped>\n",
       "    .dataframe tbody tr th:only-of-type {\n",
       "        vertical-align: middle;\n",
       "    }\n",
       "\n",
       "    .dataframe tbody tr th {\n",
       "        vertical-align: top;\n",
       "    }\n",
       "\n",
       "    .dataframe thead th {\n",
       "        text-align: right;\n",
       "    }\n",
       "</style>\n",
       "<table border=\"1\" class=\"dataframe\">\n",
       "  <thead>\n",
       "    <tr style=\"text-align: right;\">\n",
       "      <th></th>\n",
       "      <th>mean</th>\n",
       "      <th>max</th>\n",
       "      <th>min</th>\n",
       "    </tr>\n",
       "    <tr>\n",
       "      <th>status</th>\n",
       "      <th></th>\n",
       "      <th></th>\n",
       "      <th></th>\n",
       "    </tr>\n",
       "  </thead>\n",
       "  <tbody>\n",
       "    <tr>\n",
       "      <th>complete</th>\n",
       "      <td>4.769384</td>\n",
       "      <td>48</td>\n",
       "      <td>0</td>\n",
       "    </tr>\n",
       "    <tr>\n",
       "      <th>fail</th>\n",
       "      <td>7.616015</td>\n",
       "      <td>44</td>\n",
       "      <td>0</td>\n",
       "    </tr>\n",
       "    <tr>\n",
       "      <th>start</th>\n",
       "      <td>6.583625</td>\n",
       "      <td>49</td>\n",
       "      <td>0</td>\n",
       "    </tr>\n",
       "  </tbody>\n",
       "</table>\n",
       "</div>"
      ],
      "text/plain": [
       "              mean  max  min\n",
       "status                      \n",
       "complete  4.769384   48    0\n",
       "fail      7.616015   44    0\n",
       "start     6.583625   49    0"
      ]
     },
     "execution_count": 44,
     "metadata": {},
     "output_type": "execute_result"
    }
   ],
   "source": [
    "Status=train.groupby('status').level_number.agg([np.mean,max,min])\n",
    "Status"
   ]
  },
  {
   "cell_type": "code",
   "execution_count": null,
   "metadata": {},
   "outputs": [],
   "source": [
    "df=train.groupby(\"status\")\n",
    "for i in df:\n",
    "    print(i)"
   ]
  }
 ],
 "metadata": {
  "kernelspec": {
   "display_name": "Python 3",
   "language": "python",
   "name": "python3"
  },
  "language_info": {
   "codemirror_mode": {
    "name": "ipython",
    "version": 3
   },
   "file_extension": ".py",
   "mimetype": "text/x-python",
   "name": "python",
   "nbconvert_exporter": "python",
   "pygments_lexer": "ipython3",
   "version": "3.7.3"
  }
 },
 "nbformat": 4,
 "nbformat_minor": 2
}
